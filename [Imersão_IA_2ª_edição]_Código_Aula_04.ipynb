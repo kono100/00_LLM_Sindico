{
  "cells": [
    {
      "cell_type": "markdown",
      "metadata": {
        "id": "view-in-github",
        "colab_type": "text"
      },
      "source": [
        "<a href=\"https://colab.research.google.com/github/kono100/00_LLM_Sindico/blob/main/%5BImers%C3%A3o_IA_2%C2%AA_edi%C3%A7%C3%A3o%5D_C%C3%B3digo_Aula_04.ipynb\" target=\"_parent\"><img src=\"https://colab.research.google.com/assets/colab-badge.svg\" alt=\"Open In Colab\"/></a>"
      ]
    },
    {
      "cell_type": "code",
      "execution_count": 1,
      "metadata": {
        "id": "nFQLKQ6hfXch"
      },
      "outputs": [],
      "source": [
        "#Instalando o SDK do Google\n",
        "!pip install -q -U google-generativeai"
      ]
    },
    {
      "cell_type": "code",
      "execution_count": 2,
      "metadata": {
        "id": "IthzwfnAfcsi"
      },
      "outputs": [],
      "source": [
        "#Configurações iniciais\n",
        "import google.generativeai as genai\n",
        "\n",
        "GOOGLE_API_KEY=\"Sua_api_aqui\"\n",
        "genai.configure(api_key=GOOGLE_API_KEY)"
      ]
    },
    {
      "cell_type": "code",
      "execution_count": 3,
      "metadata": {
        "colab": {
          "base_uri": "https://localhost:8080/",
          "height": 138
        },
        "id": "iD3ihugymWBt",
        "outputId": "b0575562-9bfc-4e21-e54f-3aabbf5e0f07"
      },
      "outputs": [
        {
          "output_type": "stream",
          "name": "stdout",
          "text": [
            "models/gemini-1.0-pro\n",
            "models/gemini-1.0-pro-001\n",
            "models/gemini-1.0-pro-latest\n",
            "models/gemini-1.0-pro-vision-latest\n",
            "models/gemini-1.5-pro-latest\n",
            "models/gemini-pro\n",
            "models/gemini-pro-vision\n"
          ]
        }
      ],
      "source": [
        "#Listando os modelos disponíveis\n",
        "for m in genai.list_models():\n",
        "  if 'generateContent' in m.supported_generation_methods:\n",
        "    print(m.name)"
      ]
    },
    {
      "cell_type": "code",
      "execution_count": 4,
      "metadata": {
        "id": "O1ochaeyDn_o"
      },
      "outputs": [],
      "source": [
        "generation_config = {\n",
        "  \"candidate_count\": 1,\n",
        "  \"temperature\": 0.5,\n",
        "}"
      ]
    },
    {
      "cell_type": "code",
      "execution_count": 5,
      "metadata": {
        "id": "jwBv7DofDofw"
      },
      "outputs": [],
      "source": [
        "safety_settings={\n",
        "    'HATE': 'BLOCK_NONE',\n",
        "    'HARASSMENT': 'BLOCK_NONE',\n",
        "    'SEXUAL' : 'BLOCK_NONE',\n",
        "    'DANGEROUS' : 'BLOCK_NONE'\n",
        "    }"
      ]
    },
    {
      "cell_type": "code",
      "execution_count": 6,
      "metadata": {
        "id": "NIiSs1R5mVJE"
      },
      "outputs": [],
      "source": [
        "model = genai.GenerativeModel(model_name='gemini-1.0-pro',\n",
        "                                  generation_config=generation_config,\n",
        "                                  safety_settings=safety_settings,)"
      ]
    },
    {
      "cell_type": "code",
      "execution_count": 24,
      "metadata": {
        "colab": {
          "base_uri": "https://localhost:8080/",
          "height": 191
        },
        "id": "vrRjhT2rlrU_",
        "outputId": "0946344b-05b8-42c2-9ee9-f70f1df38821"
      },
      "outputs": [
        {
          "output_type": "execute_result",
          "data": {
            "text/plain": [
              "'Olá! Sou Jakan, seu síndico virtual. Estou aqui para ajudá-lo com as seguintes tarefas:\\n\\n**Gestão de Condomínio:**\\n\\n* Rastrear pagamentos de taxas de condomínio\\n* Gerenciar solicitações de manutenção\\n* Comunicar-se com moradores e proprietários\\n* Organizar reuniões de condomínio\\n\\n**Suporte ao Morador:**\\n\\n* Responder a perguntas e resolver problemas\\n* Fornecer informações sobre regras e regulamentos do condomínio\\n* Agendar comodidades de uso comum\\n* Processar pedidos de chaves e passes\\n\\n**Gestão Financeira:**\\n\\n* Gerenciar o orçamento do condomínio\\n* Rastrear despesas e receitas\\n* Preparar relatórios financeiros\\n\\n**Comunicação:**\\n\\n* Enviar e-mails, mensagens de texto ou notificações push\\n* Manter um site ou aplicativo do condomínio\\n* Gerenciar fóruns ou grupos de discussão online\\n\\n**Outras Tarefas:**\\n\\n* Agendar inspeções e reparos\\n* Supervisionar a equipe de zeladoria\\n* Negociar contratos com fornecedores\\n* Garantir a conformidade com as leis e regulamentos\\n\\nEstou disponível 24 horas por dia, 7 dias por semana, para ajudá-lo com qualquer dúvida ou solicitação que você possa ter. Basta me enviar uma mensagem ou ligar para o número fornecido.'"
            ],
            "application/vnd.google.colaboratory.intrinsic+json": {
              "type": "string"
            }
          },
          "metadata": {},
          "execution_count": 24
        }
      ],
      "source": [
        "response = model.generate_content(\"Olá! Eu sou Jakan, seu síndico virtual. Como posso ajudar?\")\n",
        "response.text"
      ]
    },
    {
      "cell_type": "markdown",
      "source": [],
      "metadata": {
        "id": "-JIPUlxjOakq"
      }
    },
    {
      "cell_type": "code",
      "execution_count": 26,
      "metadata": {
        "colab": {
          "base_uri": "https://localhost:8080/",
          "height": 870
        },
        "id": "KpaQ6hm5f2_J",
        "outputId": "21aa413a-850e-46e3-e559-a765b5882e66"
      },
      "outputs": [
        {
          "name": "stdout",
          "output_type": "stream",
          "text": [
            "Olá! Eu sou Jakan, seu síndico virtual. Como posso ajudar?\n",
            "Qual o nome do seu condominio ? Aurora\n",
            "\n",
            "Pergunta: O vizinho do apartamento de cima esta fazendo muito barulho\n",
            "Resposta do Síndico: **Passos para lidar com um vizinho barulhento:**\n",
            "\n",
            "**1. Converse diretamente com o vizinho:**\n",
            "\n",
            "* Seja educado e respeitoso.\n",
            "* Explique que o barulho está afetando você e peça que ele o reduza.\n",
            "* Seja específico sobre os horários e tipos de barulho que o incomodam.\n",
            "\n",
            "**2. Documente o barulho:**\n",
            "\n",
            "* Mantenha um registro dos horários e duração do barulho.\n",
            "* Grave o barulho, se possível.\n",
            "* Tire fotos ou vídeos de quaisquer danos causados pelo barulho.\n",
            "\n",
            "**3. Entre em contato com o síndico ou proprietário:**\n",
            "\n",
            "* Informe o síndico ou proprietário sobre o problema.\n",
            "* Forneça a documentação que você reuniu.\n",
            "* Eles podem mediar a situação ou tomar medidas para resolver o problema.\n",
            "\n",
            "**4. Entre em contato com as autoridades:**\n",
            "\n",
            "* Se outras medidas não resolverem o problema, você pode entrar em contato com as autoridades locais, como a polícia ou o controle de ruído.\n",
            "* Eles podem emitir multas ou tomar outras medidas para fazer com que o vizinho cesse o barulho.\n",
            "\n",
            "**Dicas adicionais:**\n",
            "\n",
            "* Mantenha a calma e evite confrontos.\n",
            "* Seja compreensivo com o ponto de vista do vizinho.\n",
            "* Esteja disposto a negociar e encontrar uma solução que funcione para ambos.\n",
            "* Considere usar tampões de ouvido ou uma máquina de ruído branco para bloquear o barulho.\n",
            "* Se o barulho for excessivo ou perigoso, não hesite em chamar a polícia imediatamente. \n",
            "\n",
            "\n",
            "Pergunta: obrigado pela dica\n",
            "Resposta do Síndico: De nada! Fico feliz em ajudar. Espero que você consiga resolver o problema com o seu vizinho barulhento. Aqui estão algumas dicas adicionais que podem ser úteis:\n",
            "\n",
            "* **Seja persistente:** Pode levar algum tempo para resolver o problema. Não desista se não vir resultados imediatos.\n",
            "* **Mantenha um registro de comunicação:** Documente todas as conversas, e-mails e outras comunicações que você tiver com seu vizinho e o síndico ou proprietário.\n",
            "* **Esteja disposto a comprometer:** Pode não ser possível eliminar completamente o barulho, mas você pode ser capaz de encontrar um meio-termo que funcione para ambos.\n",
            "* **Considere mediação:** Se você não conseguir resolver o problema diretamente com seu vizinho, considere entrar em contato com um mediador profissional. Eles podem ajudar a facilitar uma conversa produtiva e encontrar uma solução mutuamente aceitável. \n",
            "\n",
            "\n",
            "Pergunta: fim\n"
          ]
        }
      ],
      "source": [
        "mensagem_sindico = \"Olá! Eu sou Jakan, seu síndico virtual. Como posso ajudar?\"\n",
        "print(mensagem_sindico)\n",
        "\n",
        "Condominio = input('Qual o nome do seu condominio ? ')\n",
        "\n",
        "inicial = f\"quero que você me responda como um sindico e seu nome é Jakan, um síndico virtual do condomínio {Condominio}.\"\n",
        "\n",
        "chat = model.start_chat(history=[])\n",
        "prompt = \inicial\\n",
        "prompt = input('\\nPergunta: ')\n",
        "\n",
        "while prompt != \"fim\":\n",
        "  response = chat.send_message(prompt)\n",
        "  print(\"Resposta do Síndico:\", response.text, '\\n\\n')\n",
        "  prompt = input('Pergunta: ')"
      ]
    },
    {
      "cell_type": "code",
      "execution_count": 27,
      "metadata": {
        "id": "XLAniTTDhHNW",
        "outputId": "76e7d1e5-1381-439d-f872-e4aff29c740d",
        "colab": {
          "base_uri": "https://localhost:8080/"
        }
      },
      "outputs": [
        {
          "output_type": "execute_result",
          "data": {
            "text/plain": [
              "ChatSession(\n",
              "    model=genai.GenerativeModel(\n",
              "        model_name='models/gemini-1.0-pro',\n",
              "        generation_config={'candidate_count': 1, 'temperature': 0.5},\n",
              "        safety_settings={<HarmCategory.HARM_CATEGORY_HATE_SPEECH: 8>: <HarmBlockThreshold.BLOCK_NONE: 4>, <HarmCategory.HARM_CATEGORY_HARASSMENT: 7>: <HarmBlockThreshold.BLOCK_NONE: 4>, <HarmCategory.HARM_CATEGORY_SEXUALLY_EXPLICIT: 9>: <HarmBlockThreshold.BLOCK_NONE: 4>, <HarmCategory.HARM_CATEGORY_DANGEROUS_CONTENT: 10>: <HarmBlockThreshold.BLOCK_NONE: 4>},\n",
              "        tools=None,\n",
              "        system_instruction=None,\n",
              "    ),\n",
              "    history=[glm.Content({'parts': [{'text': 'O vizinho do...muito barulho'}], 'role': 'user'}), glm.Content({'parts': [{'text': '**Passos par...mediatamente.'}], 'role': 'model'}), glm.Content({'parts': [{'text': 'obrigado pela dica'}], 'role': 'user'}), glm.Content({'parts': [{'text': 'De nada! Fic...te aceitável.'}], 'role': 'model'})]\n",
              ")"
            ]
          },
          "metadata": {},
          "execution_count": 27
        }
      ],
      "source": [
        "chat"
      ]
    },
    {
      "cell_type": "code",
      "execution_count": 28,
      "metadata": {
        "id": "sd8mvW9KghTf",
        "outputId": "7ebd4511-404c-4971-8a3c-c282d9fb9cfb",
        "colab": {
          "base_uri": "https://localhost:8080/"
        }
      },
      "outputs": [
        {
          "output_type": "execute_result",
          "data": {
            "text/plain": [
              "[parts {\n",
              "   text: \"O vizinho do apartamento de cima esta fazendo muito barulho\"\n",
              " }\n",
              " role: \"user\",\n",
              " parts {\n",
              "   text: \"**Passos para lidar com um vizinho barulhento:**\\n\\n**1. Converse diretamente com o vizinho:**\\n\\n* Seja educado e respeitoso.\\n* Explique que o barulho est\\303\\241 afetando voc\\303\\252 e pe\\303\\247a que ele o reduza.\\n* Seja espec\\303\\255fico sobre os hor\\303\\241rios e tipos de barulho que o incomodam.\\n\\n**2. Documente o barulho:**\\n\\n* Mantenha um registro dos hor\\303\\241rios e dura\\303\\247\\303\\243o do barulho.\\n* Grave o barulho, se poss\\303\\255vel.\\n* Tire fotos ou v\\303\\255deos de quaisquer danos causados pelo barulho.\\n\\n**3. Entre em contato com o s\\303\\255ndico ou propriet\\303\\241rio:**\\n\\n* Informe o s\\303\\255ndico ou propriet\\303\\241rio sobre o problema.\\n* Forne\\303\\247a a documenta\\303\\247\\303\\243o que voc\\303\\252 reuniu.\\n* Eles podem mediar a situa\\303\\247\\303\\243o ou tomar medidas para resolver o problema.\\n\\n**4. Entre em contato com as autoridades:**\\n\\n* Se outras medidas n\\303\\243o resolverem o problema, voc\\303\\252 pode entrar em contato com as autoridades locais, como a pol\\303\\255cia ou o controle de ru\\303\\255do.\\n* Eles podem emitir multas ou tomar outras medidas para fazer com que o vizinho cesse o barulho.\\n\\n**Dicas adicionais:**\\n\\n* Mantenha a calma e evite confrontos.\\n* Seja compreensivo com o ponto de vista do vizinho.\\n* Esteja disposto a negociar e encontrar uma solu\\303\\247\\303\\243o que funcione para ambos.\\n* Considere usar tamp\\303\\265es de ouvido ou uma m\\303\\241quina de ru\\303\\255do branco para bloquear o barulho.\\n* Se o barulho for excessivo ou perigoso, n\\303\\243o hesite em chamar a pol\\303\\255cia imediatamente.\"\n",
              " }\n",
              " role: \"model\",\n",
              " parts {\n",
              "   text: \"obrigado pela dica\"\n",
              " }\n",
              " role: \"user\",\n",
              " parts {\n",
              "   text: \"De nada! Fico feliz em ajudar. Espero que voc\\303\\252 consiga resolver o problema com o seu vizinho barulhento. Aqui est\\303\\243o algumas dicas adicionais que podem ser \\303\\272teis:\\n\\n* **Seja persistente:** Pode levar algum tempo para resolver o problema. N\\303\\243o desista se n\\303\\243o vir resultados imediatos.\\n* **Mantenha um registro de comunica\\303\\247\\303\\243o:** Documente todas as conversas, e-mails e outras comunica\\303\\247\\303\\265es que voc\\303\\252 tiver com seu vizinho e o s\\303\\255ndico ou propriet\\303\\241rio.\\n* **Esteja disposto a comprometer:** Pode n\\303\\243o ser poss\\303\\255vel eliminar completamente o barulho, mas voc\\303\\252 pode ser capaz de encontrar um meio-termo que funcione para ambos.\\n* **Considere media\\303\\247\\303\\243o:** Se voc\\303\\252 n\\303\\243o conseguir resolver o problema diretamente com seu vizinho, considere entrar em contato com um mediador profissional. Eles podem ajudar a facilitar uma conversa produtiva e encontrar uma solu\\303\\247\\303\\243o mutuamente aceit\\303\\241vel.\"\n",
              " }\n",
              " role: \"model\"]"
            ]
          },
          "metadata": {},
          "execution_count": 28
        }
      ],
      "source": [
        "chat.history"
      ]
    },
    {
      "cell_type": "code",
      "execution_count": 29,
      "metadata": {
        "id": "dAcbPBocgzeX",
        "outputId": "8f4891aa-9776-4344-ab24-fe964be1816c",
        "colab": {
          "base_uri": "https://localhost:8080/",
          "height": 872
        }
      },
      "outputs": [
        {
          "output_type": "display_data",
          "data": {
            "text/plain": [
              "<IPython.core.display.Markdown object>"
            ],
            "text/markdown": "> **user**: O vizinho do apartamento de cima esta fazendo muito barulho"
          },
          "metadata": {}
        },
        {
          "output_type": "stream",
          "name": "stdout",
          "text": [
            "-------------------------------------------\n"
          ]
        },
        {
          "output_type": "display_data",
          "data": {
            "text/plain": [
              "<IPython.core.display.Markdown object>"
            ],
            "text/markdown": "> **model**: **Passos para lidar com um vizinho barulhento:**\n> \n> **1. Converse diretamente com o vizinho:**\n> \n> * Seja educado e respeitoso.\n> * Explique que o barulho está afetando você e peça que ele o reduza.\n> * Seja específico sobre os horários e tipos de barulho que o incomodam.\n> \n> **2. Documente o barulho:**\n> \n> * Mantenha um registro dos horários e duração do barulho.\n> * Grave o barulho, se possível.\n> * Tire fotos ou vídeos de quaisquer danos causados pelo barulho.\n> \n> **3. Entre em contato com o síndico ou proprietário:**\n> \n> * Informe o síndico ou proprietário sobre o problema.\n> * Forneça a documentação que você reuniu.\n> * Eles podem mediar a situação ou tomar medidas para resolver o problema.\n> \n> **4. Entre em contato com as autoridades:**\n> \n> * Se outras medidas não resolverem o problema, você pode entrar em contato com as autoridades locais, como a polícia ou o controle de ruído.\n> * Eles podem emitir multas ou tomar outras medidas para fazer com que o vizinho cesse o barulho.\n> \n> **Dicas adicionais:**\n> \n> * Mantenha a calma e evite confrontos.\n> * Seja compreensivo com o ponto de vista do vizinho.\n> * Esteja disposto a negociar e encontrar uma solução que funcione para ambos.\n> * Considere usar tampões de ouvido ou uma máquina de ruído branco para bloquear o barulho.\n> * Se o barulho for excessivo ou perigoso, não hesite em chamar a polícia imediatamente."
          },
          "metadata": {}
        },
        {
          "output_type": "stream",
          "name": "stdout",
          "text": [
            "-------------------------------------------\n"
          ]
        },
        {
          "output_type": "display_data",
          "data": {
            "text/plain": [
              "<IPython.core.display.Markdown object>"
            ],
            "text/markdown": "> **user**: obrigado pela dica"
          },
          "metadata": {}
        },
        {
          "output_type": "stream",
          "name": "stdout",
          "text": [
            "-------------------------------------------\n"
          ]
        },
        {
          "output_type": "display_data",
          "data": {
            "text/plain": [
              "<IPython.core.display.Markdown object>"
            ],
            "text/markdown": "> **model**: De nada! Fico feliz em ajudar. Espero que você consiga resolver o problema com o seu vizinho barulhento. Aqui estão algumas dicas adicionais que podem ser úteis:\n> \n> * **Seja persistente:** Pode levar algum tempo para resolver o problema. Não desista se não vir resultados imediatos.\n> * **Mantenha um registro de comunicação:** Documente todas as conversas, e-mails e outras comunicações que você tiver com seu vizinho e o síndico ou proprietário.\n> * **Esteja disposto a comprometer:** Pode não ser possível eliminar completamente o barulho, mas você pode ser capaz de encontrar um meio-termo que funcione para ambos.\n> * **Considere mediação:** Se você não conseguir resolver o problema diretamente com seu vizinho, considere entrar em contato com um mediador profissional. Eles podem ajudar a facilitar uma conversa produtiva e encontrar uma solução mutuamente aceitável."
          },
          "metadata": {}
        },
        {
          "output_type": "stream",
          "name": "stdout",
          "text": [
            "-------------------------------------------\n"
          ]
        }
      ],
      "source": [
        "#Melhorando a visualização\n",
        "#Código disponível em https://ai.google.dev/tutorials/python_quickstart#import_packages\n",
        "import textwrap\n",
        "from IPython.display import display\n",
        "from IPython.display import Markdown\n",
        "\n",
        "def to_markdown(text):\n",
        "  text = text.replace('•', '  *')\n",
        "  return Markdown(textwrap.indent(text, '> ', predicate=lambda _: True))\n",
        "\n",
        "#Imprimindo o histórico\n",
        "for message in chat.history:\n",
        "  display(to_markdown(f'**{message.role}**: {message.parts[0].text}'))\n",
        "  print('-------------------------------------------')"
      ]
    }
  ],
  "metadata": {
    "colab": {
      "provenance": [],
      "include_colab_link": true
    },
    "kernelspec": {
      "display_name": "Python 3",
      "name": "python3"
    },
    "language_info": {
      "name": "python"
    }
  },
  "nbformat": 4,
  "nbformat_minor": 0
}
